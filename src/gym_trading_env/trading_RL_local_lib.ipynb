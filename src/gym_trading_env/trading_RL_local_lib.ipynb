{
 "cells": [
  {
   "cell_type": "markdown",
   "id": "f35cb2b6-b144-4898-9eae-b877e56f5918",
   "metadata": {},
   "source": [
    "# Reinforcement Learning Trading Bot -- Q Learning Algorithm\n",
    "- Use the Gymnasium library (based on the Open AI Gym library) to create an environment for the experiment.\n",
    "- Use the scaffolding from Pytorch tutorials to build a deep Q-learning (DQN) Agent"
   ]
  },
  {
   "cell_type": "code",
   "execution_count": 1,
   "id": "32954bb6-5923-4b09-8225-a5a4e9839e08",
   "metadata": {},
   "outputs": [],
   "source": [
    "import os\n",
    "import math\n",
    "import random\n",
    "from collections import namedtuple, deque\n",
    "from itertools import count\n",
    "from importlib.machinery import SourceFileLoader\n",
    "import importlib.util\n",
    "import sys\n",
    "\n",
    "import pandas as pd\n",
    "import matplotlib\n",
    "import matplotlib.pyplot as plt\n",
    "\n",
    "import torch\n",
    "import torch.nn as nn\n",
    "import torch.optim as optim\n",
    "import torch.nn.functional as F\n",
    "\n",
    "import gymnasium as gym\n",
    "# from gym.envs.registration import register\n",
    "import gym_trading_env\n",
    "from gym_trading_env.downloader import download\n",
    "from gym_trading_env.renderer import Renderer\n",
    "import datetime"
   ]
  },
  {
   "cell_type": "code",
   "execution_count": 2,
   "id": "80c7e3ed-06a6-4b57-9c25-adf89652a287",
   "metadata": {},
   "outputs": [],
   "source": [
    "df_btc_bitfinex = pd.read_pickle('data/bitfinex2-BTCUSDT-1h.pkl')\n",
    "df_eth_bitfinex = pd.read_pickle('data/bitfinex2-ETHUSDT-1h.pkl')"
   ]
  },
  {
   "cell_type": "code",
   "execution_count": 3,
   "id": "a81ad9ce-6ae8-4caf-bbbb-8ff6660ddbee",
   "metadata": {
    "scrolled": true
   },
   "outputs": [
    {
     "data": {
      "text/html": [
       "<div>\n",
       "<style scoped>\n",
       "    .dataframe tbody tr th:only-of-type {\n",
       "        vertical-align: middle;\n",
       "    }\n",
       "\n",
       "    .dataframe tbody tr th {\n",
       "        vertical-align: top;\n",
       "    }\n",
       "\n",
       "    .dataframe thead th {\n",
       "        text-align: right;\n",
       "    }\n",
       "</style>\n",
       "<table border=\"1\" class=\"dataframe\">\n",
       "  <thead>\n",
       "    <tr style=\"text-align: right;\">\n",
       "      <th></th>\n",
       "      <th>open</th>\n",
       "      <th>high</th>\n",
       "      <th>low</th>\n",
       "      <th>close</th>\n",
       "      <th>volume</th>\n",
       "      <th>date_close</th>\n",
       "    </tr>\n",
       "    <tr>\n",
       "      <th>date_open</th>\n",
       "      <th></th>\n",
       "      <th></th>\n",
       "      <th></th>\n",
       "      <th></th>\n",
       "      <th></th>\n",
       "      <th></th>\n",
       "    </tr>\n",
       "  </thead>\n",
       "  <tbody>\n",
       "    <tr>\n",
       "      <th>2019-03-11 10:00:00</th>\n",
       "      <td>3870.1</td>\n",
       "      <td>3890.0</td>\n",
       "      <td>3870.1</td>\n",
       "      <td>3890.0</td>\n",
       "      <td>0.050000</td>\n",
       "      <td>2019-03-11 11:00:00</td>\n",
       "    </tr>\n",
       "    <tr>\n",
       "      <th>2019-03-11 11:00:00</th>\n",
       "      <td>3875.3</td>\n",
       "      <td>3907.7</td>\n",
       "      <td>3875.3</td>\n",
       "      <td>3907.7</td>\n",
       "      <td>1.539235</td>\n",
       "      <td>2019-03-11 12:00:00</td>\n",
       "    </tr>\n",
       "    <tr>\n",
       "      <th>2019-03-11 12:00:00</th>\n",
       "      <td>3870.0</td>\n",
       "      <td>3870.0</td>\n",
       "      <td>3870.0</td>\n",
       "      <td>3870.0</td>\n",
       "      <td>0.100000</td>\n",
       "      <td>2019-03-11 13:00:00</td>\n",
       "    </tr>\n",
       "    <tr>\n",
       "      <th>2019-03-11 13:00:00</th>\n",
       "      <td>3866.9</td>\n",
       "      <td>3866.9</td>\n",
       "      <td>3865.5</td>\n",
       "      <td>3865.5</td>\n",
       "      <td>0.549000</td>\n",
       "      <td>2019-03-11 14:00:00</td>\n",
       "    </tr>\n",
       "    <tr>\n",
       "      <th>2019-03-11 14:00:00</th>\n",
       "      <td>3867.9</td>\n",
       "      <td>3868.0</td>\n",
       "      <td>3857.3</td>\n",
       "      <td>3860.1</td>\n",
       "      <td>5.097256</td>\n",
       "      <td>2019-03-11 15:00:00</td>\n",
       "    </tr>\n",
       "  </tbody>\n",
       "</table>\n",
       "</div>"
      ],
      "text/plain": [
       "                       open    high     low   close    volume  \\\n",
       "date_open                                                       \n",
       "2019-03-11 10:00:00  3870.1  3890.0  3870.1  3890.0  0.050000   \n",
       "2019-03-11 11:00:00  3875.3  3907.7  3875.3  3907.7  1.539235   \n",
       "2019-03-11 12:00:00  3870.0  3870.0  3870.0  3870.0  0.100000   \n",
       "2019-03-11 13:00:00  3866.9  3866.9  3865.5  3865.5  0.549000   \n",
       "2019-03-11 14:00:00  3867.9  3868.0  3857.3  3860.1  5.097256   \n",
       "\n",
       "                             date_close  \n",
       "date_open                                \n",
       "2019-03-11 10:00:00 2019-03-11 11:00:00  \n",
       "2019-03-11 11:00:00 2019-03-11 12:00:00  \n",
       "2019-03-11 12:00:00 2019-03-11 13:00:00  \n",
       "2019-03-11 13:00:00 2019-03-11 14:00:00  \n",
       "2019-03-11 14:00:00 2019-03-11 15:00:00  "
      ]
     },
     "execution_count": 3,
     "metadata": {},
     "output_type": "execute_result"
    }
   ],
   "source": [
    "df_btc_bitfinex.head()"
   ]
  },
  {
   "cell_type": "code",
   "execution_count": 4,
   "id": "2ef5bfc5-2479-4c40-99ae-f71da60b3c7f",
   "metadata": {},
   "outputs": [
    {
     "data": {
      "text/plain": [
       "date_open\n",
       "2019-03-11 10:00:00     3870.1\n",
       "2019-03-11 11:00:00     3875.3\n",
       "2019-03-11 12:00:00     3870.0\n",
       "2019-03-11 13:00:00     3866.9\n",
       "2019-03-11 14:00:00     3867.9\n",
       "                        ...   \n",
       "2023-01-01 00:00:00    16544.0\n",
       "2023-01-01 01:00:00    16532.0\n",
       "2023-01-01 02:00:00    16552.0\n",
       "2023-01-01 03:00:00    16549.0\n",
       "2023-01-01 04:00:00    16533.0\n",
       "Name: open, Length: 32958, dtype: float64"
      ]
     },
     "execution_count": 4,
     "metadata": {},
     "output_type": "execute_result"
    }
   ],
   "source": [
    "df_btc_bitfinex.iloc[:,0]"
   ]
  },
  {
   "cell_type": "code",
   "execution_count": 5,
   "id": "8464a33a-daad-4aea-a1bb-706adf9f173d",
   "metadata": {},
   "outputs": [
    {
     "data": {
      "text/plain": [
       "Index(['open', 'high', 'low', 'close', 'volume', 'date_close'], dtype='object')"
      ]
     },
     "execution_count": 5,
     "metadata": {},
     "output_type": "execute_result"
    }
   ],
   "source": [
    "df_btc_bitfinex.columns"
   ]
  },
  {
   "cell_type": "code",
   "execution_count": 6,
   "id": "a93728fb-6788-4552-bb5d-69dc135165f2",
   "metadata": {},
   "outputs": [
    {
     "data": {
      "text/plain": [
       "DatetimeIndex(['2019-03-11 10:00:00', '2019-03-11 11:00:00',\n",
       "               '2019-03-11 12:00:00', '2019-03-11 13:00:00',\n",
       "               '2019-03-11 14:00:00', '2019-03-11 15:00:00',\n",
       "               '2019-03-11 16:00:00', '2019-03-11 20:00:00',\n",
       "               '2019-03-11 21:00:00', '2019-03-11 22:00:00',\n",
       "               ...\n",
       "               '2022-12-31 19:00:00', '2022-12-31 20:00:00',\n",
       "               '2022-12-31 21:00:00', '2022-12-31 22:00:00',\n",
       "               '2022-12-31 23:00:00', '2023-01-01 00:00:00',\n",
       "               '2023-01-01 01:00:00', '2023-01-01 02:00:00',\n",
       "               '2023-01-01 03:00:00', '2023-01-01 04:00:00'],\n",
       "              dtype='datetime64[ns]', name='date_open', length=32958, freq=None)"
      ]
     },
     "execution_count": 6,
     "metadata": {},
     "output_type": "execute_result"
    }
   ],
   "source": [
    "df_btc_bitfinex.index"
   ]
  },
  {
   "cell_type": "code",
   "execution_count": 7,
   "id": "a4bf6eef-f352-4568-a9a6-b77fb85f38a5",
   "metadata": {},
   "outputs": [],
   "source": [
    "# No need to run once pickle file has been saved.\n",
    "# df_aapl_2010_2017 = pd.read_csv('data/AAPL.csv')\n",
    "# df_aapl_2017_2018 = pd.read_csv('data/AAPL_2018.csv')\n",
    "# df_aapl_raw = pd.concat([df_aapl_2010_2017, df_aapl_2017_2018])\n",
    "\n",
    "# # Process df\n",
    "# df_aapl = df_aapl_raw.rename(columns={\n",
    "#     \"Date\": \"date\",\n",
    "#     \"Open\": \"open\",\n",
    "#     \"High\": \"high\",\n",
    "#     \"Low\": \"low\",\n",
    "#     \"Close\": \"close\",\n",
    "#     \"Adj Close\": \"adj_close\",\n",
    "#     \"Volume\": \"volume\"\n",
    "# })\n",
    "# df_aapl.to_pickle('data/AAPL_2010_2018.pkl')"
   ]
  },
  {
   "cell_type": "code",
   "execution_count": 8,
   "id": "b1646828-8f67-4af8-a555-1e30aba0d5f6",
   "metadata": {},
   "outputs": [
    {
     "data": {
      "text/html": [
       "<div>\n",
       "<style scoped>\n",
       "    .dataframe tbody tr th:only-of-type {\n",
       "        vertical-align: middle;\n",
       "    }\n",
       "\n",
       "    .dataframe tbody tr th {\n",
       "        vertical-align: top;\n",
       "    }\n",
       "\n",
       "    .dataframe thead th {\n",
       "        text-align: right;\n",
       "    }\n",
       "</style>\n",
       "<table border=\"1\" class=\"dataframe\">\n",
       "  <thead>\n",
       "    <tr style=\"text-align: right;\">\n",
       "      <th></th>\n",
       "      <th>date</th>\n",
       "      <th>open</th>\n",
       "      <th>high</th>\n",
       "      <th>low</th>\n",
       "      <th>close</th>\n",
       "      <th>adj_close</th>\n",
       "      <th>volume</th>\n",
       "    </tr>\n",
       "  </thead>\n",
       "  <tbody>\n",
       "    <tr>\n",
       "      <th>0</th>\n",
       "      <td>2010-08-12</td>\n",
       "      <td>35.241428</td>\n",
       "      <td>36.157143</td>\n",
       "      <td>35.160000</td>\n",
       "      <td>35.970001</td>\n",
       "      <td>24.171816</td>\n",
       "      <td>133730100</td>\n",
       "    </tr>\n",
       "    <tr>\n",
       "      <th>1</th>\n",
       "      <td>2010-08-13</td>\n",
       "      <td>35.950001</td>\n",
       "      <td>35.982857</td>\n",
       "      <td>35.584286</td>\n",
       "      <td>35.585712</td>\n",
       "      <td>23.913574</td>\n",
       "      <td>88717300</td>\n",
       "    </tr>\n",
       "    <tr>\n",
       "      <th>2</th>\n",
       "      <td>2010-08-16</td>\n",
       "      <td>35.368572</td>\n",
       "      <td>35.715714</td>\n",
       "      <td>35.231430</td>\n",
       "      <td>35.377144</td>\n",
       "      <td>23.773415</td>\n",
       "      <td>79607500</td>\n",
       "    </tr>\n",
       "    <tr>\n",
       "      <th>3</th>\n",
       "      <td>2010-08-17</td>\n",
       "      <td>35.725716</td>\n",
       "      <td>36.375713</td>\n",
       "      <td>35.599998</td>\n",
       "      <td>35.995716</td>\n",
       "      <td>24.189100</td>\n",
       "      <td>105660100</td>\n",
       "    </tr>\n",
       "    <tr>\n",
       "      <th>4</th>\n",
       "      <td>2010-08-18</td>\n",
       "      <td>36.051430</td>\n",
       "      <td>36.381428</td>\n",
       "      <td>35.939999</td>\n",
       "      <td>36.152859</td>\n",
       "      <td>24.294704</td>\n",
       "      <td>84924000</td>\n",
       "    </tr>\n",
       "  </tbody>\n",
       "</table>\n",
       "</div>"
      ],
      "text/plain": [
       "         date       open       high        low      close  adj_close  \\\n",
       "0  2010-08-12  35.241428  36.157143  35.160000  35.970001  24.171816   \n",
       "1  2010-08-13  35.950001  35.982857  35.584286  35.585712  23.913574   \n",
       "2  2010-08-16  35.368572  35.715714  35.231430  35.377144  23.773415   \n",
       "3  2010-08-17  35.725716  36.375713  35.599998  35.995716  24.189100   \n",
       "4  2010-08-18  36.051430  36.381428  35.939999  36.152859  24.294704   \n",
       "\n",
       "      volume  \n",
       "0  133730100  \n",
       "1   88717300  \n",
       "2   79607500  \n",
       "3  105660100  \n",
       "4   84924000  "
      ]
     },
     "execution_count": 8,
     "metadata": {},
     "output_type": "execute_result"
    }
   ],
   "source": [
    "df_aapl = pd.read_pickle('data/AAPL_2010_2018.pkl')\n",
    "df_aapl.head()\n"
   ]
  },
  {
   "cell_type": "code",
   "execution_count": null,
   "id": "7d1b4480-2278-4b9a-af70-f16eab30561b",
   "metadata": {},
   "outputs": [],
   "source": []
  },
  {
   "cell_type": "code",
   "execution_count": 9,
   "id": "098ec158-6023-45be-9b57-d33e61caf9ff",
   "metadata": {},
   "outputs": [],
   "source": [
    "spec = importlib.util.spec_from_file_location(\n",
    "    \"environments\", \"environments.py\"\n",
    ")\n",
    "module_name = importlib.util.module_from_spec(spec)\n",
    "sys.modules[\"environments\"] = module_name\n",
    "spec.loader.exec_module(module_name)\n",
    "# Instantiate class here\n",
    "# module_name.TradingEnv()"
   ]
  },
  {
   "cell_type": "code",
   "execution_count": 10,
   "id": "f52c3fac-3b2d-4092-88d2-9db9326bd6f1",
   "metadata": {},
   "outputs": [],
   "source": [
    "trading_days = 252\n",
    "gym.register(\n",
    "    id='trading-v0',\n",
    "    entry_point=\"environments:TradingEnv\",\n",
    "    max_episode_steps=trading_days\n",
    ")"
   ]
  },
  {
   "cell_type": "code",
   "execution_count": 11,
   "id": "3fb8ab97-9027-4bf3-a952-2e7e42cc4b59",
   "metadata": {},
   "outputs": [],
   "source": [
    "env = gym.make(\n",
    "    'trading-v0', df=df_aapl, \n",
    "    portfolio_initial_value=1000, max_episode_duration=100\n",
    ")\n",
    "# env.seed(42)\n",
    "\n",
    "state_size = env.observation_space.shape[0]\n",
    "action_size = env.action_space.n\n",
    "max_episode_steps = env.spec.max_episode_steps\n",
    "\n",
    "gamma = .99,  # discount factor\n",
    "tau = 100  # target network update frequency\n",
    "architecture = (256, 256)  # units per layer\n",
    "learning_rate = 0.0001  # learning rate\n",
    "l2_reg = 1e-6  # L2 regularization\n",
    "replay_capacity = int(1e6)\n",
    "batch_size = 4096"
   ]
  },
  {
   "cell_type": "code",
   "execution_count": 12,
   "id": "0516369c-3128-4cc4-968d-321cac9043fa",
   "metadata": {},
   "outputs": [
    {
     "data": {
      "text/plain": [
       "<TimeLimit<OrderEnforcing<PassiveEnvChecker<TradingEnv<trading-v0>>>>>"
      ]
     },
     "execution_count": 12,
     "metadata": {},
     "output_type": "execute_result"
    }
   ],
   "source": [
    "env"
   ]
  },
  {
   "cell_type": "markdown",
   "id": "a43d1533-6e0d-4fb1-8bef-fb4359937ef8",
   "metadata": {},
   "source": [
    "## Environment Methods\n",
    "### `env.reset()`\n",
    "- `env.reset()` yields data in the environment.\n",
    "\n",
    "```\n",
    "{'idx': 179,\n",
    " 'step': 0,\n",
    " 'date': 179,\n",
    " 'position_index': 1,\n",
    " 'position': 1,\n",
    " 'real_position': 1,\n",
    " 'data_high': 49.964287,\n",
    " 'data_open': 49.455715,\n",
    " 'data_low': 49.360001,\n",
    " 'data_date': '2011-04-28',\n",
    " 'data_close': 49.535713,\n",
    " 'data_volume': 90239800,\n",
    " 'data_adj_close': 33.287975,\n",
    " 'portfolio_valuation': 1000.0,\n",
    " 'portfolio_distribution_asset': 20.1874554626881,\n",
    " 'portfolio_distribution_fiat': 0,\n",
    " 'portfolio_distribution_borrowed_asset': 0,\n",
    " 'portfolio_distribution_borrowed_fiat': 0,\n",
    " 'portfolio_distribution_interest_asset': 0,\n",
    " 'portfolio_distribution_interest_fiat': 0,\n",
    " 'reward': 0}\n",
    "```"
   ]
  },
  {
   "cell_type": "code",
   "execution_count": 13,
   "id": "cd51d14e-4e0a-47c2-9dd4-56857e7cb469",
   "metadata": {},
   "outputs": [
    {
     "data": {
      "text/plain": [
       "{'idx': 1569,\n",
       " 'step': 0,\n",
       " 'date': 1569,\n",
       " 'position_index': 0,\n",
       " 'position': 0,\n",
       " 'real_position': 0,\n",
       " 'data_high': 111.459999,\n",
       " 'data_close': 109.830002,\n",
       " 'data_adj_close': 106.864563,\n",
       " 'data_low': 109.550003,\n",
       " 'data_date': '2016-11-03',\n",
       " 'data_volume': 26932600,\n",
       " 'data_open': 110.980003,\n",
       " 'portfolio_valuation': 1000.0,\n",
       " 'portfolio_distribution_asset': 0,\n",
       " 'portfolio_distribution_fiat': 1000.0,\n",
       " 'portfolio_distribution_borrowed_asset': 0,\n",
       " 'portfolio_distribution_borrowed_fiat': 0,\n",
       " 'portfolio_distribution_interest_asset': 0,\n",
       " 'portfolio_distribution_interest_fiat': 0,\n",
       " 'reward': 0}"
      ]
     },
     "execution_count": 13,
     "metadata": {},
     "output_type": "execute_result"
    }
   ],
   "source": [
    "env.reset()[1]"
   ]
  },
  {
   "cell_type": "markdown",
   "id": "e889aa56-51c2-4fcb-b9f0-15adf88fd690",
   "metadata": {},
   "source": [
    "### `env.step(<current_step>)`\n",
    "- `env.step()` iterates through a range during the training process."
   ]
  },
  {
   "cell_type": "code",
   "execution_count": 14,
   "id": "88132b68-1a4d-4e3e-84c0-a840a99debbf",
   "metadata": {},
   "outputs": [
    {
     "data": {
      "text/plain": [
       "(array([0., 0.], dtype=float32),\n",
       " 0.0,\n",
       " False,\n",
       " False,\n",
       " {'idx': 1570,\n",
       "  'step': 1,\n",
       "  'date': 1570,\n",
       "  'position_index': 0,\n",
       "  'position': 0,\n",
       "  'real_position': 0.0,\n",
       "  'data_high': 110.25,\n",
       "  'data_close': 108.839996,\n",
       "  'data_adj_close': 105.901283,\n",
       "  'data_low': 108.110001,\n",
       "  'data_date': '2016-11-04',\n",
       "  'data_volume': 30837000,\n",
       "  'data_open': 108.529999,\n",
       "  'portfolio_valuation': 1000.0,\n",
       "  'portfolio_distribution_asset': 0,\n",
       "  'portfolio_distribution_fiat': 1000.0,\n",
       "  'portfolio_distribution_borrowed_asset': 0,\n",
       "  'portfolio_distribution_borrowed_fiat': 0,\n",
       "  'portfolio_distribution_interest_asset': 0,\n",
       "  'portfolio_distribution_interest_fiat': 0,\n",
       "  'reward': 0.0})"
      ]
     },
     "execution_count": 14,
     "metadata": {},
     "output_type": "execute_result"
    }
   ],
   "source": [
    "env.step(0)"
   ]
  },
  {
   "cell_type": "code",
   "execution_count": 15,
   "id": "29b5ccf6-54a8-4a0c-9ac9-1243aae1a161",
   "metadata": {},
   "outputs": [
    {
     "data": {
      "text/plain": [
       "(array([1., 1.], dtype=float32),\n",
       " 0.014321868515797061,\n",
       " False,\n",
       " False,\n",
       " {'idx': 1571,\n",
       "  'step': 2,\n",
       "  'date': 1571,\n",
       "  'position_index': 1,\n",
       "  'position': 1,\n",
       "  'real_position': 1.0,\n",
       "  'data_high': 110.510002,\n",
       "  'data_close': 110.410004,\n",
       "  'data_adj_close': 107.428894,\n",
       "  'data_low': 109.459999,\n",
       "  'data_date': '2016-11-07',\n",
       "  'data_volume': 32560000,\n",
       "  'data_open': 110.080002,\n",
       "  'portfolio_valuation': 1014.4249178399456,\n",
       "  'portfolio_distribution_asset': 9.187798941117197,\n",
       "  'portfolio_distribution_fiat': 0,\n",
       "  'portfolio_distribution_borrowed_asset': 0,\n",
       "  'portfolio_distribution_borrowed_fiat': 0,\n",
       "  'portfolio_distribution_interest_asset': 0,\n",
       "  'portfolio_distribution_interest_fiat': 0,\n",
       "  'reward': 0.014321868515797061})"
      ]
     },
     "execution_count": 15,
     "metadata": {},
     "output_type": "execute_result"
    }
   ],
   "source": [
    "env.step(1)"
   ]
  },
  {
   "cell_type": "code",
   "execution_count": 17,
   "id": "56f6f3fc-9671-43fd-a10e-83f1ba9acc68",
   "metadata": {},
   "outputs": [],
   "source": [
    "# set up matplotlib\n",
    "is_ipython = 'inline' in matplotlib.get_backend()\n",
    "if is_ipython:\n",
    "    from IPython import display\n",
    "\n",
    "plt.ion()\n",
    "\n",
    "# if GPU is to be used\n",
    "device = torch.device(\"cuda\" if torch.cuda.is_available() else \"cpu\")"
   ]
  },
  {
   "cell_type": "markdown",
   "id": "c98cbec9-7e85-41f2-963e-27eb473e5b85",
   "metadata": {},
   "source": [
    "## Define Replay Memory and Agent Classes"
   ]
  },
  {
   "cell_type": "code",
   "execution_count": 18,
   "id": "3b655f71-a8d4-4a52-a54f-63a07d0c4dd1",
   "metadata": {},
   "outputs": [],
   "source": [
    "\n",
    "Transition = namedtuple('Transition',\n",
    "                        ('state', 'action', 'next_state', 'reward'))\n",
    "\n",
    "class ReplayMemory(object):\n",
    "    def __init__(self, capacity):\n",
    "        self.memory = deque([], maxlen=capacity)\n",
    "\n",
    "    def push(self, *args):\n",
    "        \"\"\"Save a transition\"\"\"\n",
    "        self.memory.append(Transition(*args))\n",
    "\n",
    "    def sample(self, batch_size):\n",
    "        return random.sample(self.memory, batch_size)\n",
    "\n",
    "    def __len__(self):\n",
    "        return len(self.memory)"
   ]
  },
  {
   "cell_type": "markdown",
   "id": "05b70a72-e772-4bca-a45a-256b84fc8306",
   "metadata": {},
   "source": [
    "## Define Agent"
   ]
  },
  {
   "cell_type": "code",
   "execution_count": 19,
   "id": "5ca73f39-b4ec-4246-af12-1525c90e2a63",
   "metadata": {},
   "outputs": [],
   "source": [
    "class DQN(nn.Module):\n",
    "    def __init__(self, n_observations, n_actions):\n",
    "        super(DQN, self).__init__()\n",
    "        self.layer1 = nn.Linear(n_observations, 128)\n",
    "        self.layer2 = nn.Linear(128, 128)\n",
    "        self.layer3 = nn.Linear(128, n_actions)\n",
    "\n",
    "    def forward(self, x):\n",
    "        \"\"\"\n",
    "        Called with either one element to determine next action, or a batch\n",
    "        during optimization. Returns tensor([[left0exp,right0exp]...]).\n",
    "        \"\"\"\n",
    "        x = F.relu(self.layer1(x))\n",
    "        x = F.relu(self.layer2(x))\n",
    "        return self.layer3(x)"
   ]
  },
  {
   "cell_type": "markdown",
   "id": "82c7f524-813a-4a66-8e5a-9d4b34a6f886",
   "metadata": {},
   "source": [
    "## Initialize Parameters"
   ]
  },
  {
   "cell_type": "code",
   "execution_count": 20,
   "id": "d96e1a17-ffb9-436d-aea5-ee3ceaf748af",
   "metadata": {},
   "outputs": [],
   "source": [
    "BATCH_SIZE = 128  # BATCH_SIZE is the number of transitions sampled from the replay buffer\n",
    "GAMMA = 0.99  # GAMMA is the discount factor\n",
    "EPS_START = 0.9  # EPS_START is the starting value of epsilon\n",
    "EPS_END = 0.05  # EPS_END is the final value of epsilon\n",
    "EPS_DECAY = 1000  # EPS_DECAY controls the rate of exponential decay of epsilon, higher means a slower decay\n",
    "TAU = 0.005  # TAU is the update rate of the target network\n",
    "LR = 1e-4  # LR is the learning rate of the ``AdamW`` optimizer\n",
    "\n",
    "n_actions = env.action_space.n  # Get number of actions from action space\n",
    "\n",
    "# Get the number of state observations\n",
    "state, info = env.reset()  \n",
    "n_observations = len(state)"
   ]
  },
  {
   "cell_type": "markdown",
   "id": "fa078929-bffa-41b5-8c27-f811c6103c2e",
   "metadata": {},
   "source": [
    "## Instantiate Agent (Model) and Optimizer"
   ]
  },
  {
   "cell_type": "code",
   "execution_count": 21,
   "id": "eee61af8-413a-4018-bd9c-465a8ed1071a",
   "metadata": {},
   "outputs": [],
   "source": [
    "policy_net = DQN(n_observations, n_actions).to(device)\n",
    "target_net = DQN(n_observations, n_actions).to(device)\n",
    "target_net.load_state_dict(policy_net.state_dict())\n",
    "\n",
    "optimizer = optim.AdamW(policy_net.parameters(), lr=LR, amsgrad=True)\n",
    "memory = ReplayMemory(10000)\n",
    "steps_done = 0\n",
    "episode_durations = []"
   ]
  },
  {
   "cell_type": "markdown",
   "id": "fabd3743-0083-42ab-8265-f335bc21ce9e",
   "metadata": {},
   "source": [
    "## Define Utilities"
   ]
  },
  {
   "cell_type": "code",
   "execution_count": 22,
   "id": "42513a52-6848-434d-a98b-82c73a489c4d",
   "metadata": {},
   "outputs": [],
   "source": [
    "def select_action(state):\n",
    "    \"\"\"\n",
    "    Selects an action according to an epsilon greedy policy. \n",
    "    We’ll sometimes use our model for choosing the action, and sometimes just sample one uniformly. \n",
    "    The probability of choosing a random action will start at EPS_START and will decay exponentially towards EPS_END. \n",
    "    EPS_DECAY controls the rate of the decay.\n",
    "    \"\"\"\n",
    "    global steps_done  # Enable modification of the variable in the outer scope\n",
    "    sample = random.random()\n",
    "    eps_threshold = EPS_END + (EPS_START - EPS_END) * math.exp(-1. * steps_done / EPS_DECAY)\n",
    "    steps_done += 1\n",
    "    if sample > eps_threshold:\n",
    "        with torch.no_grad():  # Context-manager that disables gradient calculation.\n",
    "            # t.max(1) will return the largest column value of each row.\n",
    "            # second column on max result is index of where max element was\n",
    "            # found, so we pick action with the larger expected reward.\n",
    "            return policy_net(state).max(1).indices.view(1, 1)\n",
    "    else:\n",
    "        return torch.tensor([[env.action_space.sample()]], device=device, dtype=torch.long)"
   ]
  },
  {
   "cell_type": "code",
   "execution_count": 23,
   "id": "b3cb198c-7dcc-4cb3-8b07-1e762bbed037",
   "metadata": {},
   "outputs": [],
   "source": [
    "def plot_durations(show_result=False):\n",
    "    \"\"\"\n",
    "    A helper for plotting the duration of episodes, along with an average over the last 100 episodes \n",
    "    (the measure used in the official evaluations). \n",
    "    The plot will be underneath the cell containing the main training loop, \n",
    "    and will update after every episode.\n",
    "    \"\"\"\n",
    "    plt.figure(1)\n",
    "    # torch.tensor() constructs a tensor with no autograd history\n",
    "    # A torch.Tensor is a multi-dimensional matrix containing elements of a single data type.\n",
    "    durations_t = torch.tensor(episode_durations, dtype=torch.float)\n",
    "    if show_result:\n",
    "        plt.title('Result')\n",
    "    else:\n",
    "        plt.clf()\n",
    "        plt.title('Training...')\n",
    "    plt.xlabel('Episode')\n",
    "    plt.ylabel('Duration')\n",
    "    plt.plot(durations_t.numpy())  # Tensor.numpy() returns the tensor as a NumPy `ndarray`.\n",
    "\n",
    "    # Take 100 eposide averages and plot them\n",
    "    if len(durations_t) >= 100:\n",
    "        # unfold() returns a view of the original tensor which contains \n",
    "        # all slices of size `size` from `self` tensor in the dimension `dimension`.\n",
    "        means_unfold = durations_t.unfold(0, 100, 1).mean(1).view(-1)\n",
    "        # torch.cat() concatenates the given sequence of `seq` tensors in the given dimension. \n",
    "        # All tensors must either have the same shape (except in the concatenating dimension) or be empty.\n",
    "        means = torch.cat((torch.zeros(99), means_unfold))\n",
    "        plt.plot(means.numpy())\n",
    "    plt.pause(0.005)  # Pause for plots to update\n",
    "    if is_ipython:\n",
    "        if not show_result:\n",
    "            display.display(plt.gcf())\n",
    "            display.clear_output(wait=True)\n",
    "        else:\n",
    "            display.display(plt.gcf())"
   ]
  },
  {
   "cell_type": "markdown",
   "id": "a0b5c11d-e383-43ca-946b-aab973e009ca",
   "metadata": {},
   "source": [
    "## Define Optimization"
   ]
  },
  {
   "cell_type": "code",
   "execution_count": 24,
   "id": "05a7c550-1757-40bb-aec1-95d764b619a9",
   "metadata": {},
   "outputs": [],
   "source": [
    "def optimize_model():\n",
    "    \"\"\"\n",
    "    performs a single step of the optimization. \n",
    "    It first samples a batch, concatenates all the tensors into a single one, \n",
    "    computes Q(s_t, a) and V(s_{t+1}), Compute the expected Q values,\n",
    "    and combines them into our loss.\n",
    "\n",
    "    We also use a target network to compute V(s_{t+1}) for added stability. \n",
    "    The target network is updated at every step with a soft update controlled by the hyperparameter TAU, \n",
    "    which was previously defined.\n",
    "    \"\"\"\n",
    "    if len(memory) < BATCH_SIZE:\n",
    "        return\n",
    "    transitions = memory.sample(BATCH_SIZE)\n",
    "    # Transpose the batch (see https://stackoverflow.com/a/19343/3343043 for\n",
    "    # detailed explanation). This converts batch-array of Transitions\n",
    "    # to Transition of batch-arrays.\n",
    "    batch = Transition(*zip(*transitions))\n",
    "\n",
    "    # Compute a mask of non-final states and concatenate the batch elements\n",
    "    # (a final state would've been the one after which simulation ended)\n",
    "    non_final_mask = torch.tensor(tuple(map(lambda s: s is not None,\n",
    "                                          batch.next_state)), device=device, dtype=torch.bool)\n",
    "    non_final_next_states = torch.cat([s for s in batch.next_state\n",
    "                                                if s is not None])\n",
    "    state_batch = torch.cat(batch.state)\n",
    "    action_batch = torch.cat(batch.action)\n",
    "    reward_batch = torch.cat(batch.reward)\n",
    "\n",
    "    # Compute Q(s_t, a) - the model computes Q(s_t), then we select the\n",
    "    # columns of actions taken. These are the actions which would've been taken\n",
    "    # for each batch state according to policy_net\n",
    "    state_action_values = policy_net(state_batch).gather(1, action_batch)\n",
    "\n",
    "    # Compute V(s_{t+1}) for all next states.\n",
    "    # Expected values of actions for non_final_next_states are computed based\n",
    "    # on the \"older\" target_net; selecting their best reward with max(1).values\n",
    "    # This is merged based on the mask, such that we'll have either the expected\n",
    "    # state value or 0 in case the state was final.\n",
    "    next_state_values = torch.zeros(BATCH_SIZE, device=device)\n",
    "    with torch.no_grad():\n",
    "        next_state_values[non_final_mask] = target_net(non_final_next_states).max(1).values\n",
    "    # Compute the expected Q values\n",
    "    expected_state_action_values = (next_state_values * GAMMA) + reward_batch\n",
    "\n",
    "    # Compute Huber loss\n",
    "    criterion = nn.SmoothL1Loss()\n",
    "    loss = criterion(state_action_values, expected_state_action_values.unsqueeze(1))\n",
    "\n",
    "    # Optimize the model\n",
    "    optimizer.zero_grad()\n",
    "    loss.backward()\n",
    "    # In-place gradient clipping\n",
    "    torch.nn.utils.clip_grad_value_(policy_net.parameters(), 100)\n",
    "    optimizer.step()"
   ]
  },
  {
   "cell_type": "markdown",
   "id": "7ba439f0-7ca7-4e57-95b2-ede74e69e4f1",
   "metadata": {},
   "source": [
    "## Perform Training"
   ]
  },
  {
   "cell_type": "code",
   "execution_count": 25,
   "id": "a576cc78-ab20-4453-aebd-bc9e7f64d508",
   "metadata": {},
   "outputs": [
    {
     "name": "stdout",
     "output_type": "stream",
     "text": [
      "Complete\n"
     ]
    },
    {
     "data": {
      "image/png": "[encoded data removed]",
      "text/plain": [
       "<Figure size 640x480 with 1 Axes>"
      ]
     },
     "metadata": {},
     "output_type": "display_data"
    },
    {
     "data": {
      "text/plain": [
       "<Figure size 640x480 with 0 Axes>"
      ]
     },
     "metadata": {},
     "output_type": "display_data"
    },
    {
     "data": {
      "text/plain": [
       "<Figure size 640x480 with 0 Axes>"
      ]
     },
     "metadata": {},
     "output_type": "display_data"
    }
   ],
   "source": [
    "if torch.cuda.is_available():\n",
    "    num_episodes = 600\n",
    "else:\n",
    "    num_episodes = 50\n",
    "\n",
    "for i_episode in range(num_episodes):\n",
    "    # Initialize the environment and obtain state\n",
    "    state, info = env.reset()\n",
    "    # torch.unsqueeze(input, dim) → Tensor \n",
    "    # Returns a new tensor with a dimension of size one inserted at the specified position.\n",
    "    state = torch.tensor(state, dtype=torch.float32, device=device).unsqueeze(0)\n",
    "    for t in count():\n",
    "        action = select_action(state)\n",
    "        # Tensor.item() returns the value of this tensor as a standard Python number.\n",
    "        observation, reward, terminated, truncated, _ = env.step(action.item())\n",
    "        reward = torch.tensor([reward], device=device)\n",
    "        done = terminated or truncated\n",
    "\n",
    "        if terminated:\n",
    "            next_state = None\n",
    "        else:\n",
    "            next_state = torch.tensor(observation, dtype=torch.float32, device=device).unsqueeze(0)\n",
    "\n",
    "        # Store the transition in memory\n",
    "        memory.push(state, action, next_state, reward)\n",
    "\n",
    "        # Move to the next state\n",
    "        state = next_state\n",
    "\n",
    "        # Perform one step of the optimization (on the policy network)\n",
    "        optimize_model()\n",
    "\n",
    "        # Soft update of the target network's weights\n",
    "        # θ′ ← τ θ + (1 −τ )θ′\n",
    "        target_net_state_dict = target_net.state_dict()\n",
    "        policy_net_state_dict = policy_net.state_dict()\n",
    "        for key in policy_net_state_dict:\n",
    "            target_net_state_dict[key] = policy_net_state_dict[key]*TAU + target_net_state_dict[key]*(1-TAU)\n",
    "        target_net.load_state_dict(target_net_state_dict)  # Loads a model’s parameter dictionary using a deserialized state_dict.\n",
    "\n",
    "        if done:\n",
    "            episode_durations.append(t + 1)\n",
    "            plot_durations()\n",
    "            break\n",
    "\n",
    "print('Complete')\n",
    "plot_durations(show_result=True)\n",
    "plt.ioff()\n",
    "plt.show()\n",
    "\n",
    "# env.save_for_render(dir=\"render_logs\")\n",
    "# renderer = Renderer(render_logs_dir=\"render_logs\")\n",
    "# renderer.run()"
   ]
  },
  {
   "cell_type": "markdown",
   "id": "19db9970-aff6-40ff-af75-dcc666ed863b",
   "metadata": {},
   "source": [
    "## Summary and Conclusion\n",
    "- The code is not sufficiently customized for the Gymnasium trading environment. While you may be able to see the portfolio return percentages during the training process, the code isn't able to capture an aggregate result of the training.\n",
    "- "
   ]
  }
 ],
 "metadata": {
  "kernelspec": {
   "display_name": "Python 3 (ipykernel)",
   "language": "python",
   "name": "python3"
  },
  "language_info": {
   "codemirror_mode": {
    "name": "ipython",
    "version": 3
   },
   "file_extension": ".py",
   "mimetype": "text/x-python",
   "name": "python",
   "nbconvert_exporter": "python",
   "pygments_lexer": "ipython3",
   "version": "3.11.6"
  }
 },
 "nbformat": 4,
 "nbformat_minor": 5
}
